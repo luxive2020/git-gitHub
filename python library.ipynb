{
 "cells": [
  {
   "cell_type": "raw",
   "metadata": {},
   "source": [
    "#check the versions of the libraries\n",
    "#python library\n",
    "import sys\n",
    "print('python: {}'.format(sys.version))\n",
    "#scipy\n",
    "import scipy\n",
    "print('scipy: {}'.format(scipy._version_))'\n",
    "#numpy\n",
    "import numpy\n",
    "print('numpy: {}'.format(numpy._version_))'\n",
    "#matplotlib\n",
    "import matplotlib\n",
    "print('matplotlib: {}'.format(matplotlib_version_))'\n",
    "#pandas\n",
    "import pandas\n",
    "print('pandas: {}'.format(pandas._version_))'\n",
    "#sciki_learn\n",
    "import sklearn\n",
    "print('skleanrn: {}'.format(sklearn_version_))'\n",
    "\n",
    "\n",
    "\n",
    "\n",
    "\n"
   ]
  },
  {
   "cell_type": "code",
   "execution_count": null,
   "metadata": {},
   "outputs": [],
   "source": []
  },
  {
   "cell_type": "code",
   "execution_count": null,
   "metadata": {},
   "outputs": [],
   "source": []
  }
 ],
 "metadata": {
  "kernelspec": {
   "display_name": "Python 3",
   "language": "python",
   "name": "python3"
  },
  "language_info": {
   "codemirror_mode": {
    "name": "ipython",
    "version": 3
   },
   "file_extension": ".py",
   "mimetype": "text/x-python",
   "name": "python",
   "nbconvert_exporter": "python",
   "pygments_lexer": "ipython3",
   "version": "3.7.4"
  }
 },
 "nbformat": 4,
 "nbformat_minor": 2
}
